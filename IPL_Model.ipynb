{
 "cells": [
  {
   "cell_type": "code",
   "execution_count": 140,
   "metadata": {},
   "outputs": [],
   "source": [
    "import numpy as np \n",
    "import pandas as pd "
   ]
  },
  {
   "cell_type": "code",
   "execution_count": 141,
   "metadata": {},
   "outputs": [],
   "source": [
    "matches = pd.read_csv('IPL_matches.csv')"
   ]
  },
  {
   "cell_type": "code",
   "execution_count": 142,
   "metadata": {},
   "outputs": [],
   "source": [
    "matches.drop(columns = [\"umpire1\",\"umpire2\",\"umpire3\"],axis = 1,inplace = True)\n"
   ]
  },
  {
   "cell_type": "code",
   "execution_count": 143,
   "metadata": {},
   "outputs": [],
   "source": [
    "matches.city.fillna(max(matches.city.value_counts()),inplace = True)"
   ]
  },
  {
   "cell_type": "code",
   "execution_count": 144,
   "metadata": {},
   "outputs": [
    {
     "data": {
      "text/plain": [
       "array(['Rajiv Gandhi International Stadium, Uppal',\n",
       "       'M Chinnaswamy Stadium', 'Wankhede Stadium', 'Eden Gardens',\n",
       "       'Feroz Shah Kotla', 'Punjab Cricket Association Stadium, Mohali',\n",
       "       'Sawai Mansingh Stadium', 'MA Chidambaram Stadium, Chepauk'],\n",
       "      dtype=object)"
      ]
     },
     "execution_count": 144,
     "metadata": {},
     "output_type": "execute_result"
    }
   ],
   "source": [
    "no_result_matches = matches[matches.result == 'no result'] \n",
    "matches = matches[matches.winner.isnull() == False] \n",
    "matches.replace(['Delhi Daredevils'],['Delhi Capitals'],inplace=True)\n",
    "matches['team1'].unique()\n",
    "consistent_teams = ['Kolkata Knight Riders', 'Chennai Super Kings', 'Rajasthan Royals',\n",
    "                    'Mumbai Indians', 'Kings XI Punjab', 'Royal Challengers Bangalore',\n",
    "                    'Delhi Capitals', 'Sunrisers Hyderabad'] \n",
    "consistent_venues = ['M Chinnaswamy Stadium','Eden Gardens', 'Feroz Shah Kotla', 'MA Chidambaram Stadium, Chepauk',\n",
    "       'Punjab Cricket Association Stadium, Mohali', \n",
    "       'Wankhede Stadium', 'Sawai Mansingh Stadium',\n",
    "       'Rajiv Gandhi International Stadium, Uppal']\n",
    "\n",
    "matches = matches[(matches['team1'].isin(consistent_teams)) & (matches['team2'].isin(consistent_teams)) & (matches['toss_winner'].isin(consistent_teams)) & (matches['winner'].isin(consistent_teams))& (matches['venue'].isin(consistent_venues))]\n",
    "'''print(matches['team1'].unique())\n",
    "print(matches['team2'].unique())\n",
    "print(matches['toss_winner'].unique())\n",
    "print(matches['winner'].unique())\n",
    "matches'''\n",
    "matches['venue'].unique()\n",
    "#matches['team1'].unique()"
   ]
  },
  {
   "cell_type": "code",
   "execution_count": 145,
   "metadata": {},
   "outputs": [],
   "source": [
    "matches.replace(['Mumbai Indians','Kolkata Knight Riders','Royal Challengers Bangalore','Chennai Super Kings',\n",
    "                 'Rajasthan Royals','Kings XI Punjab','Sunrisers Hyderabad','Delhi Capitals']\n",
    "                ,['MI','KKR','RCB','CSK','RR','KXIP','SRH','DC'],inplace=True)\n",
    "matches.replace(['M Chinnaswamy Stadium','Eden Gardens', 'Feroz Shah Kotla', 'MA Chidambaram Stadium, Chepauk',\n",
    "       'Punjab Cricket Association Stadium, Mohali', \n",
    "       'Wankhede Stadium', 'Sawai Mansingh Stadium',\n",
    "       'Rajiv Gandhi International Stadium, Uppal'],['MCS','EG','FSK','MCSC','PCASM','WS','SMS','RGISU'],inplace=True)\n",
    "matches.replace(['field','bat'],['F','B'],inplace=True)\n",
    "encode = {'team1': {'MI':1,'KKR':2,'RCB':3,'CSK':4,'RR':5,'KXIP':6,'SRH':7, 'DC':8},\n",
    "          'team2': {'MI':1,'KKR':2,'RCB':3,'CSK':4,'RR':5,'KXIP':6,'SRH':7, 'DC':8},\n",
    "          'toss_winner': {'MI':1,'KKR':2,'RCB':3,'CSK':4,'RR':5,'KXIP':6,'SRH':7, 'DC':8},\n",
    "          'winner': {'MI':1,'KKR':2,'RCB':3,'CSK':4,'RR':5,'KXIP':6,'SRH':7,'DC':8,'Draw':9},\n",
    "          'venue':{'MCS':1,'EG':2,'FSK':3,'MCSC':4,'PCASM':5,'WS':6,'SMS':7,'RGISU':8},\n",
    "          'toss_decision':{'B':1,'F':2}}\n",
    "matches.replace(encode, inplace=True)"
   ]
  },
  {
   "cell_type": "code",
   "execution_count": 146,
   "metadata": {},
   "outputs": [],
   "source": [
    "matches = matches[['team1','team2','toss_decision','toss_winner','venue','winner']]\n"
   ]
  },
  {
   "cell_type": "code",
   "execution_count": 147,
   "metadata": {},
   "outputs": [],
   "source": [
    "df = pd.DataFrame(matches)"
   ]
  },
  {
   "cell_type": "code",
   "execution_count": 148,
   "metadata": {},
   "outputs": [],
   "source": [
    "from sklearn.linear_model import LogisticRegression\n",
    "from sklearn import metrics\n",
    "\n",
    "#Generic function for making a classification model and accessing performance:\n",
    "def classification_model(model, data, predictors, outcome):\n",
    "  model.fit(data[predictors],data[outcome])\n",
    "  predictions = model.predict(data[predictors])\n",
    "  accuracy = metrics.accuracy_score(predictions,data[outcome])\n",
    "  print('Accuracy : %s' % '{0:.3%}'.format(accuracy))\n",
    "  \n",
    "  model.fit(data[predictors],data[outcome])"
   ]
  },
  {
   "cell_type": "code",
   "execution_count": 149,
   "metadata": {},
   "outputs": [
    {
     "data": {
      "text/plain": [
       "\"from sklearn.preprocessing import LabelEncoder\\nvar_mod=['toss_decision','venue']\\nle=LabelEncoder()\\nfor i in var_mod:\\n    df[i]=le.fit_transform(df[i].astype('str'))\\ndf.dtypes  \""
      ]
     },
     "execution_count": 149,
     "metadata": {},
     "output_type": "execute_result"
    }
   ],
   "source": [
    "'''from sklearn.preprocessing import LabelEncoder\n",
    "var_mod=['toss_decision','venue']\n",
    "le=LabelEncoder()\n",
    "for i in var_mod:\n",
    "    df[i]=le.fit_transform(df[i].astype('str'))\n",
    "df.dtypes  '''"
   ]
  },
  {
   "cell_type": "code",
   "execution_count": 150,
   "metadata": {},
   "outputs": [
    {
     "name": "stderr",
     "output_type": "stream",
     "text": [
      "C:\\ProgramData\\Anaconda3\\lib\\site-packages\\ipykernel_launcher.py:6: DataConversionWarning: A column-vector y was passed when a 1d array was expected. Please change the shape of y to (n_samples,), for example using ravel().\n",
      "  \n"
     ]
    },
    {
     "name": "stdout",
     "output_type": "stream",
     "text": [
      "Accuracy : 79.639%\n"
     ]
    },
    {
     "name": "stderr",
     "output_type": "stream",
     "text": [
      "C:\\ProgramData\\Anaconda3\\lib\\site-packages\\ipykernel_launcher.py:11: DataConversionWarning: A column-vector y was passed when a 1d array was expected. Please change the shape of y to (n_samples,), for example using ravel().\n",
      "  # This is added back by InteractiveShellApp.init_path()\n"
     ]
    }
   ],
   "source": [
    "from sklearn.ensemble import RandomForestClassifier\n",
    "model=RandomForestClassifier(n_estimators=100)\n",
    "outcome_var=['winner']\n",
    "predictor_var = ['team1','team2','venue','toss_winner','toss_decision']\n",
    "classification_model(model, df,predictor_var,outcome_var)\n",
    "# Creating a pickle file for the classifier\n",
    "#filename = 'score_predictor_model.pkl'\n",
    "#pickle.dump(lasso_regressor, open(filename, 'wb'))"
   ]
  },
  {
   "cell_type": "code",
   "execution_count": 152,
   "metadata": {},
   "outputs": [
    {
     "name": "stdout",
     "output_type": "stream",
     "text": [
      "CSK\n"
     ]
    }
   ],
   "source": [
    "dicVal=encode['winner']\n",
    "team1=\"RCB\"\n",
    "team2=\"KKR\"\n",
    "toss_winner=\"RCB\"\n",
    "toss_decision=\"B\"\n",
    "venue=\"PCASM\"\n",
    "\n",
    "input=[dicVal[\"RCB\"],dicVal[\"CSK\"],'5',dicVal[\"CSK\"],1]\n",
    "input=np.array(input).reshape((1,-1))\n",
    "output=model.predict(input)\n",
    "print(list(dicVal.keys())[list(dicVal.values()).index(output)])"
   ]
  },
  {
   "cell_type": "code",
   "execution_count": null,
   "metadata": {},
   "outputs": [],
   "source": []
  }
 ],
 "metadata": {
  "kernelspec": {
   "display_name": "Python 3",
   "language": "python",
   "name": "python3"
  },
  "language_info": {
   "codemirror_mode": {
    "name": "ipython",
    "version": 3
   },
   "file_extension": ".py",
   "mimetype": "text/x-python",
   "name": "python",
   "nbconvert_exporter": "python",
   "pygments_lexer": "ipython3",
   "version": "3.7.6"
  }
 },
 "nbformat": 4,
 "nbformat_minor": 4
}
